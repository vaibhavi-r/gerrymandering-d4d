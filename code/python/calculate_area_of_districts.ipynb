{
 "cells": [
  {
   "cell_type": "code",
   "execution_count": 3,
   "metadata": {
    "collapsed": true
   },
   "outputs": [],
   "source": [
    "import numpy as np\n",
    "import pandas as pd"
   ]
  },
  {
   "cell_type": "code",
   "execution_count": null,
   "metadata": {
    "collapsed": true
   },
   "outputs": [],
   "source": []
  },
  {
   "cell_type": "code",
   "execution_count": 26,
   "metadata": {
    "collapsed": false
   },
   "outputs": [
    {
     "data": {
      "text/plain": [
       "(876, 4)"
      ]
     },
     "execution_count": 26,
     "metadata": {},
     "output_type": "execute_result"
    }
   ],
   "source": [
    "# Location= C:\\Users\\iGuest\\Documents\\GitHub\\gerrymandering\\data\\US_congress_voting_district_map_2016.csv\n",
    "all_df = pd.read_csv('../../data/US_congress_voting_district_map_2016.csv')\n",
    "all_df.shape"
   ]
  },
  {
   "cell_type": "code",
   "execution_count": 27,
   "metadata": {
    "collapsed": false
   },
   "outputs": [
    {
     "data": {
      "text/plain": [
       "<bound method NDFrame.describe of      year state  district                                            geojson\n",
       "0    2016    OK         3  {\"geometry\": {\"type\": \"MultiPolygon\", \"coordin...\n",
       "1    2016    PA         2  {\"geometry\": {\"type\": \"MultiPolygon\", \"coordin...\n",
       "2    2016    MN         8  {\"geometry\": {\"type\": \"MultiPolygon\", \"coordin...\n",
       "3    2016    WI         5  {\"geometry\": {\"type\": \"MultiPolygon\", \"coordin...\n",
       "4    2016    OH        14  {\"geometry\": {\"type\": \"MultiPolygon\", \"coordin...\n",
       "5    2016    GA         9  {\"geometry\": {\"type\": \"MultiPolygon\", \"coordin...\n",
       "6    2016    IA         1  {\"geometry\": {\"type\": \"MultiPolygon\", \"coordin...\n",
       "7    2016    FL        19  {\"geometry\": {\"type\": \"MultiPolygon\", \"coordin...\n",
       "8    2016    TX        19  {\"geometry\": {\"type\": \"MultiPolygon\", \"coordin...\n",
       "9    2016    CT         3  {\"geometry\": {\"type\": \"MultiPolygon\", \"coordin...\n",
       "10   2016    OH        11  {\"geometry\": {\"type\": \"MultiPolygon\", \"coordin...\n",
       "11   2016    VA         9  {\"geometry\": {\"type\": \"MultiPolygon\", \"coordin...\n",
       "12   2016    MN         7  {\"geometry\": {\"type\": \"MultiPolygon\", \"coordin...\n",
       "13   2016    AZ         8  {\"geometry\": {\"type\": \"MultiPolygon\", \"coordin...\n",
       "14   2016    TX        26  {\"geometry\": {\"type\": \"MultiPolygon\", \"coordin...\n",
       "15   2016    NY        16  {\"geometry\": {\"type\": \"MultiPolygon\", \"coordin...\n",
       "16   2016    KS         4  {\"geometry\": {\"type\": \"MultiPolygon\", \"coordin...\n",
       "17   2016    IN         1  {\"geometry\": {\"type\": \"MultiPolygon\", \"coordin...\n",
       "18   2016    MD         5  {\"geometry\": {\"type\": \"MultiPolygon\", \"coordin...\n",
       "19   2016    FL         9  {\"geometry\": {\"type\": \"MultiPolygon\", \"coordin...\n",
       "20   2016    TX        16  {\"geometry\": {\"type\": \"MultiPolygon\", \"coordin...\n",
       "21   2016    VA        10  {\"geometry\": {\"type\": \"MultiPolygon\", \"coordin...\n",
       "22   2016    MO         2  {\"geometry\": {\"type\": \"MultiPolygon\", \"coordin...\n",
       "23   2016    NY         3  {\"geometry\": {\"type\": \"MultiPolygon\", \"coordin...\n",
       "24   2016    CA         1  {\"geometry\": {\"type\": \"MultiPolygon\", \"coordin...\n",
       "25   2016    WI         1  {\"geometry\": {\"type\": \"MultiPolygon\", \"coordin...\n",
       "26   2016    NJ         1  {\"geometry\": {\"type\": \"MultiPolygon\", \"coordin...\n",
       "27   2016    OK         5  {\"geometry\": {\"type\": \"MultiPolygon\", \"coordin...\n",
       "28   2016    NC         2  {\"geometry\": {\"type\": \"MultiPolygon\", \"coordin...\n",
       "29   2016    MA         5  {\"geometry\": {\"type\": \"MultiPolygon\", \"coordin...\n",
       "..    ...   ...       ...                                                ...\n",
       "846  2012    NC         3  { \"type\": \"MultiPolygon\", \"coordinates\": [ [ [...\n",
       "847  2012    AZ         1  { \"type\": \"MultiPolygon\", \"coordinates\": [ [ [...\n",
       "848  2012    OR         2  { \"type\": \"MultiPolygon\", \"coordinates\": [ [ [...\n",
       "849  2012    CA         8  { \"type\": \"MultiPolygon\", \"coordinates\": [ [ [...\n",
       "850  2012    FL        13  { \"type\": \"MultiPolygon\", \"coordinates\": [ [ [...\n",
       "851  2012    ME         1  { \"type\": \"MultiPolygon\", \"coordinates\": [ [ [...\n",
       "852  2012    CA         6  { \"type\": \"MultiPolygon\", \"coordinates\": [ [ [...\n",
       "853  2012    NY        23  { \"type\": \"MultiPolygon\", \"coordinates\": [ [ [...\n",
       "854  2012    PA        14  { \"type\": \"MultiPolygon\", \"coordinates\": [ [ [...\n",
       "855  2012    CA        32  { \"type\": \"MultiPolygon\", \"coordinates\": [ [ [...\n",
       "856  2012    TX         1  { \"type\": \"MultiPolygon\", \"coordinates\": [ [ [...\n",
       "857  2012    NC         9  { \"type\": \"MultiPolygon\", \"coordinates\": [ [ [...\n",
       "858  2012    PA        18  { \"type\": \"MultiPolygon\", \"coordinates\": [ [ [...\n",
       "859  2012    CA        10  { \"type\": \"MultiPolygon\", \"coordinates\": [ [ [...\n",
       "860  2012    IN         5  { \"type\": \"MultiPolygon\", \"coordinates\": [ [ [...\n",
       "861  2012    NC         6  { \"type\": \"MultiPolygon\", \"coordinates\": [ [ [...\n",
       "862  2012    TX        30  { \"type\": \"MultiPolygon\", \"coordinates\": [ [ [...\n",
       "863  2012    WV         2  { \"type\": \"MultiPolygon\", \"coordinates\": [ [ [...\n",
       "864  2012    NJ         9  { \"type\": \"MultiPolygon\", \"coordinates\": [ [ [...\n",
       "865  2012    WI         2  { \"type\": \"MultiPolygon\", \"coordinates\": [ [ [...\n",
       "866  2012    FL        14  { \"type\": \"MultiPolygon\", \"coordinates\": [ [ [...\n",
       "867  2012    MO         1  { \"type\": \"MultiPolygon\", \"coordinates\": [ [ [...\n",
       "868  2012    NY        24  { \"type\": \"MultiPolygon\", \"coordinates\": [ [ [...\n",
       "869  2012    CA        26  { \"type\": \"MultiPolygon\", \"coordinates\": [ [ [...\n",
       "870  2012    MS         4  { \"type\": \"MultiPolygon\", \"coordinates\": [ [ [...\n",
       "871  2012    MI         3  { \"type\": \"MultiPolygon\", \"coordinates\": [ [ [...\n",
       "872  2012    AR         2  { \"type\": \"MultiPolygon\", \"coordinates\": [ [ [...\n",
       "873  2012    TX        20  { \"type\": \"MultiPolygon\", \"coordinates\": [ [ [...\n",
       "874  2012    OH         6  { \"type\": \"MultiPolygon\", \"coordinates\": [ [ [...\n",
       "875  2012    WI         3  { \"type\": \"MultiPolygon\", \"coordinates\": [ [ [...\n",
       "\n",
       "[876 rows x 4 columns]>"
      ]
     },
     "execution_count": 27,
     "metadata": {},
     "output_type": "execute_result"
    }
   ],
   "source": [
    "all_df.describe"
   ]
  },
  {
   "cell_type": "code",
   "execution_count": 30,
   "metadata": {
    "collapsed": false
   },
   "outputs": [
    {
     "data": {
      "text/plain": [
       "<bound method NDFrame.head of      year state  district                                            geojson\n",
       "0    2016    OK         3  {\"geometry\": {\"type\": \"MultiPolygon\", \"coordin...\n",
       "1    2016    PA         2  {\"geometry\": {\"type\": \"MultiPolygon\", \"coordin...\n",
       "2    2016    MN         8  {\"geometry\": {\"type\": \"MultiPolygon\", \"coordin...\n",
       "3    2016    WI         5  {\"geometry\": {\"type\": \"MultiPolygon\", \"coordin...\n",
       "4    2016    OH        14  {\"geometry\": {\"type\": \"MultiPolygon\", \"coordin...\n",
       "5    2016    GA         9  {\"geometry\": {\"type\": \"MultiPolygon\", \"coordin...\n",
       "6    2016    IA         1  {\"geometry\": {\"type\": \"MultiPolygon\", \"coordin...\n",
       "7    2016    FL        19  {\"geometry\": {\"type\": \"MultiPolygon\", \"coordin...\n",
       "8    2016    TX        19  {\"geometry\": {\"type\": \"MultiPolygon\", \"coordin...\n",
       "9    2016    CT         3  {\"geometry\": {\"type\": \"MultiPolygon\", \"coordin...\n",
       "10   2016    OH        11  {\"geometry\": {\"type\": \"MultiPolygon\", \"coordin...\n",
       "11   2016    VA         9  {\"geometry\": {\"type\": \"MultiPolygon\", \"coordin...\n",
       "12   2016    MN         7  {\"geometry\": {\"type\": \"MultiPolygon\", \"coordin...\n",
       "13   2016    AZ         8  {\"geometry\": {\"type\": \"MultiPolygon\", \"coordin...\n",
       "14   2016    TX        26  {\"geometry\": {\"type\": \"MultiPolygon\", \"coordin...\n",
       "15   2016    NY        16  {\"geometry\": {\"type\": \"MultiPolygon\", \"coordin...\n",
       "16   2016    KS         4  {\"geometry\": {\"type\": \"MultiPolygon\", \"coordin...\n",
       "17   2016    IN         1  {\"geometry\": {\"type\": \"MultiPolygon\", \"coordin...\n",
       "18   2016    MD         5  {\"geometry\": {\"type\": \"MultiPolygon\", \"coordin...\n",
       "19   2016    FL         9  {\"geometry\": {\"type\": \"MultiPolygon\", \"coordin...\n",
       "20   2016    TX        16  {\"geometry\": {\"type\": \"MultiPolygon\", \"coordin...\n",
       "21   2016    VA        10  {\"geometry\": {\"type\": \"MultiPolygon\", \"coordin...\n",
       "22   2016    MO         2  {\"geometry\": {\"type\": \"MultiPolygon\", \"coordin...\n",
       "23   2016    NY         3  {\"geometry\": {\"type\": \"MultiPolygon\", \"coordin...\n",
       "24   2016    CA         1  {\"geometry\": {\"type\": \"MultiPolygon\", \"coordin...\n",
       "25   2016    WI         1  {\"geometry\": {\"type\": \"MultiPolygon\", \"coordin...\n",
       "26   2016    NJ         1  {\"geometry\": {\"type\": \"MultiPolygon\", \"coordin...\n",
       "27   2016    OK         5  {\"geometry\": {\"type\": \"MultiPolygon\", \"coordin...\n",
       "28   2016    NC         2  {\"geometry\": {\"type\": \"MultiPolygon\", \"coordin...\n",
       "29   2016    MA         5  {\"geometry\": {\"type\": \"MultiPolygon\", \"coordin...\n",
       "..    ...   ...       ...                                                ...\n",
       "846  2012    NC         3  { \"type\": \"MultiPolygon\", \"coordinates\": [ [ [...\n",
       "847  2012    AZ         1  { \"type\": \"MultiPolygon\", \"coordinates\": [ [ [...\n",
       "848  2012    OR         2  { \"type\": \"MultiPolygon\", \"coordinates\": [ [ [...\n",
       "849  2012    CA         8  { \"type\": \"MultiPolygon\", \"coordinates\": [ [ [...\n",
       "850  2012    FL        13  { \"type\": \"MultiPolygon\", \"coordinates\": [ [ [...\n",
       "851  2012    ME         1  { \"type\": \"MultiPolygon\", \"coordinates\": [ [ [...\n",
       "852  2012    CA         6  { \"type\": \"MultiPolygon\", \"coordinates\": [ [ [...\n",
       "853  2012    NY        23  { \"type\": \"MultiPolygon\", \"coordinates\": [ [ [...\n",
       "854  2012    PA        14  { \"type\": \"MultiPolygon\", \"coordinates\": [ [ [...\n",
       "855  2012    CA        32  { \"type\": \"MultiPolygon\", \"coordinates\": [ [ [...\n",
       "856  2012    TX         1  { \"type\": \"MultiPolygon\", \"coordinates\": [ [ [...\n",
       "857  2012    NC         9  { \"type\": \"MultiPolygon\", \"coordinates\": [ [ [...\n",
       "858  2012    PA        18  { \"type\": \"MultiPolygon\", \"coordinates\": [ [ [...\n",
       "859  2012    CA        10  { \"type\": \"MultiPolygon\", \"coordinates\": [ [ [...\n",
       "860  2012    IN         5  { \"type\": \"MultiPolygon\", \"coordinates\": [ [ [...\n",
       "861  2012    NC         6  { \"type\": \"MultiPolygon\", \"coordinates\": [ [ [...\n",
       "862  2012    TX        30  { \"type\": \"MultiPolygon\", \"coordinates\": [ [ [...\n",
       "863  2012    WV         2  { \"type\": \"MultiPolygon\", \"coordinates\": [ [ [...\n",
       "864  2012    NJ         9  { \"type\": \"MultiPolygon\", \"coordinates\": [ [ [...\n",
       "865  2012    WI         2  { \"type\": \"MultiPolygon\", \"coordinates\": [ [ [...\n",
       "866  2012    FL        14  { \"type\": \"MultiPolygon\", \"coordinates\": [ [ [...\n",
       "867  2012    MO         1  { \"type\": \"MultiPolygon\", \"coordinates\": [ [ [...\n",
       "868  2012    NY        24  { \"type\": \"MultiPolygon\", \"coordinates\": [ [ [...\n",
       "869  2012    CA        26  { \"type\": \"MultiPolygon\", \"coordinates\": [ [ [...\n",
       "870  2012    MS         4  { \"type\": \"MultiPolygon\", \"coordinates\": [ [ [...\n",
       "871  2012    MI         3  { \"type\": \"MultiPolygon\", \"coordinates\": [ [ [...\n",
       "872  2012    AR         2  { \"type\": \"MultiPolygon\", \"coordinates\": [ [ [...\n",
       "873  2012    TX        20  { \"type\": \"MultiPolygon\", \"coordinates\": [ [ [...\n",
       "874  2012    OH         6  { \"type\": \"MultiPolygon\", \"coordinates\": [ [ [...\n",
       "875  2012    WI         3  { \"type\": \"MultiPolygon\", \"coordinates\": [ [ [...\n",
       "\n",
       "[876 rows x 4 columns]>"
      ]
     },
     "execution_count": 30,
     "metadata": {},
     "output_type": "execute_result"
    }
   ],
   "source": [
    "all_df.head"
   ]
  },
  {
   "cell_type": "code",
   "execution_count": 32,
   "metadata": {
    "collapsed": false
   },
   "outputs": [
    {
     "data": {
      "text/plain": [
       "['year', 'state', 'district', 'geojson']"
      ]
     },
     "execution_count": 32,
     "metadata": {},
     "output_type": "execute_result"
    }
   ],
   "source": [
    "#Filter out North Carolina results\n",
    "list(all_df)\n"
   ]
  },
  {
   "cell_type": "code",
   "execution_count": 35,
   "metadata": {
    "collapsed": false
   },
   "outputs": [
    {
     "data": {
      "text/html": [
       "<div>\n",
       "<table border=\"1\" class=\"dataframe\">\n",
       "  <thead>\n",
       "    <tr style=\"text-align: right;\">\n",
       "      <th></th>\n",
       "      <th>year</th>\n",
       "      <th>state</th>\n",
       "      <th>district</th>\n",
       "      <th>geojson</th>\n",
       "    </tr>\n",
       "  </thead>\n",
       "  <tbody>\n",
       "    <tr>\n",
       "      <th>28</th>\n",
       "      <td>2016</td>\n",
       "      <td>NC</td>\n",
       "      <td>2</td>\n",
       "      <td>{\"geometry\": {\"type\": \"MultiPolygon\", \"coordin...</td>\n",
       "    </tr>\n",
       "    <tr>\n",
       "      <th>31</th>\n",
       "      <td>2016</td>\n",
       "      <td>NC</td>\n",
       "      <td>11</td>\n",
       "      <td>{\"geometry\": {\"type\": \"MultiPolygon\", \"coordin...</td>\n",
       "    </tr>\n",
       "    <tr>\n",
       "      <th>99</th>\n",
       "      <td>2016</td>\n",
       "      <td>NC</td>\n",
       "      <td>10</td>\n",
       "      <td>{\"geometry\": {\"type\": \"MultiPolygon\", \"coordin...</td>\n",
       "    </tr>\n",
       "    <tr>\n",
       "      <th>144</th>\n",
       "      <td>2016</td>\n",
       "      <td>NC</td>\n",
       "      <td>7</td>\n",
       "      <td>{\"geometry\": {\"type\": \"MultiPolygon\", \"coordin...</td>\n",
       "    </tr>\n",
       "    <tr>\n",
       "      <th>343</th>\n",
       "      <td>2016</td>\n",
       "      <td>NC</td>\n",
       "      <td>8</td>\n",
       "      <td>{\"geometry\": {\"type\": \"MultiPolygon\", \"coordin...</td>\n",
       "    </tr>\n",
       "    <tr>\n",
       "      <th>351</th>\n",
       "      <td>2016</td>\n",
       "      <td>NC</td>\n",
       "      <td>12</td>\n",
       "      <td>{\"geometry\": {\"type\": \"MultiPolygon\", \"coordin...</td>\n",
       "    </tr>\n",
       "    <tr>\n",
       "      <th>352</th>\n",
       "      <td>2016</td>\n",
       "      <td>NC</td>\n",
       "      <td>4</td>\n",
       "      <td>{\"geometry\": {\"type\": \"MultiPolygon\", \"coordin...</td>\n",
       "    </tr>\n",
       "    <tr>\n",
       "      <th>363</th>\n",
       "      <td>2016</td>\n",
       "      <td>NC</td>\n",
       "      <td>13</td>\n",
       "      <td>{\"geometry\": {\"type\": \"MultiPolygon\", \"coordin...</td>\n",
       "    </tr>\n",
       "    <tr>\n",
       "      <th>394</th>\n",
       "      <td>2016</td>\n",
       "      <td>NC</td>\n",
       "      <td>1</td>\n",
       "      <td>{\"geometry\": {\"type\": \"MultiPolygon\", \"coordin...</td>\n",
       "    </tr>\n",
       "    <tr>\n",
       "      <th>398</th>\n",
       "      <td>2016</td>\n",
       "      <td>NC</td>\n",
       "      <td>5</td>\n",
       "      <td>{\"geometry\": {\"type\": \"MultiPolygon\", \"coordin...</td>\n",
       "    </tr>\n",
       "    <tr>\n",
       "      <th>405</th>\n",
       "      <td>2016</td>\n",
       "      <td>NC</td>\n",
       "      <td>3</td>\n",
       "      <td>{\"geometry\": {\"type\": \"MultiPolygon\", \"coordin...</td>\n",
       "    </tr>\n",
       "    <tr>\n",
       "      <th>416</th>\n",
       "      <td>2016</td>\n",
       "      <td>NC</td>\n",
       "      <td>9</td>\n",
       "      <td>{\"geometry\": {\"type\": \"MultiPolygon\", \"coordin...</td>\n",
       "    </tr>\n",
       "    <tr>\n",
       "      <th>420</th>\n",
       "      <td>2016</td>\n",
       "      <td>NC</td>\n",
       "      <td>6</td>\n",
       "      <td>{\"geometry\": {\"type\": \"MultiPolygon\", \"coordin...</td>\n",
       "    </tr>\n",
       "    <tr>\n",
       "      <th>465</th>\n",
       "      <td>2012</td>\n",
       "      <td>NC</td>\n",
       "      <td>2</td>\n",
       "      <td>{ \"type\": \"MultiPolygon\", \"coordinates\": [ [ [...</td>\n",
       "    </tr>\n",
       "    <tr>\n",
       "      <th>468</th>\n",
       "      <td>2012</td>\n",
       "      <td>NC</td>\n",
       "      <td>11</td>\n",
       "      <td>{ \"type\": \"MultiPolygon\", \"coordinates\": [ [ [...</td>\n",
       "    </tr>\n",
       "    <tr>\n",
       "      <th>538</th>\n",
       "      <td>2012</td>\n",
       "      <td>NC</td>\n",
       "      <td>10</td>\n",
       "      <td>{ \"type\": \"MultiPolygon\", \"coordinates\": [ [ [...</td>\n",
       "    </tr>\n",
       "    <tr>\n",
       "      <th>585</th>\n",
       "      <td>2012</td>\n",
       "      <td>NC</td>\n",
       "      <td>7</td>\n",
       "      <td>{ \"type\": \"MultiPolygon\", \"coordinates\": [ [ [...</td>\n",
       "    </tr>\n",
       "    <tr>\n",
       "      <th>784</th>\n",
       "      <td>2012</td>\n",
       "      <td>NC</td>\n",
       "      <td>8</td>\n",
       "      <td>{ \"type\": \"MultiPolygon\", \"coordinates\": [ [ [...</td>\n",
       "    </tr>\n",
       "    <tr>\n",
       "      <th>792</th>\n",
       "      <td>2012</td>\n",
       "      <td>NC</td>\n",
       "      <td>12</td>\n",
       "      <td>{ \"type\": \"MultiPolygon\", \"coordinates\": [ [ [...</td>\n",
       "    </tr>\n",
       "    <tr>\n",
       "      <th>793</th>\n",
       "      <td>2012</td>\n",
       "      <td>NC</td>\n",
       "      <td>4</td>\n",
       "      <td>{ \"type\": \"MultiPolygon\", \"coordinates\": [ [ [...</td>\n",
       "    </tr>\n",
       "    <tr>\n",
       "      <th>804</th>\n",
       "      <td>2012</td>\n",
       "      <td>NC</td>\n",
       "      <td>13</td>\n",
       "      <td>{ \"type\": \"MultiPolygon\", \"coordinates\": [ [ [...</td>\n",
       "    </tr>\n",
       "    <tr>\n",
       "      <th>835</th>\n",
       "      <td>2012</td>\n",
       "      <td>NC</td>\n",
       "      <td>1</td>\n",
       "      <td>{ \"type\": \"MultiPolygon\", \"coordinates\": [ [ [...</td>\n",
       "    </tr>\n",
       "    <tr>\n",
       "      <th>839</th>\n",
       "      <td>2012</td>\n",
       "      <td>NC</td>\n",
       "      <td>5</td>\n",
       "      <td>{ \"type\": \"MultiPolygon\", \"coordinates\": [ [ [...</td>\n",
       "    </tr>\n",
       "    <tr>\n",
       "      <th>846</th>\n",
       "      <td>2012</td>\n",
       "      <td>NC</td>\n",
       "      <td>3</td>\n",
       "      <td>{ \"type\": \"MultiPolygon\", \"coordinates\": [ [ [...</td>\n",
       "    </tr>\n",
       "    <tr>\n",
       "      <th>857</th>\n",
       "      <td>2012</td>\n",
       "      <td>NC</td>\n",
       "      <td>9</td>\n",
       "      <td>{ \"type\": \"MultiPolygon\", \"coordinates\": [ [ [...</td>\n",
       "    </tr>\n",
       "    <tr>\n",
       "      <th>861</th>\n",
       "      <td>2012</td>\n",
       "      <td>NC</td>\n",
       "      <td>6</td>\n",
       "      <td>{ \"type\": \"MultiPolygon\", \"coordinates\": [ [ [...</td>\n",
       "    </tr>\n",
       "  </tbody>\n",
       "</table>\n",
       "</div>"
      ],
      "text/plain": [
       "     year state  district                                            geojson\n",
       "28   2016    NC         2  {\"geometry\": {\"type\": \"MultiPolygon\", \"coordin...\n",
       "31   2016    NC        11  {\"geometry\": {\"type\": \"MultiPolygon\", \"coordin...\n",
       "99   2016    NC        10  {\"geometry\": {\"type\": \"MultiPolygon\", \"coordin...\n",
       "144  2016    NC         7  {\"geometry\": {\"type\": \"MultiPolygon\", \"coordin...\n",
       "343  2016    NC         8  {\"geometry\": {\"type\": \"MultiPolygon\", \"coordin...\n",
       "351  2016    NC        12  {\"geometry\": {\"type\": \"MultiPolygon\", \"coordin...\n",
       "352  2016    NC         4  {\"geometry\": {\"type\": \"MultiPolygon\", \"coordin...\n",
       "363  2016    NC        13  {\"geometry\": {\"type\": \"MultiPolygon\", \"coordin...\n",
       "394  2016    NC         1  {\"geometry\": {\"type\": \"MultiPolygon\", \"coordin...\n",
       "398  2016    NC         5  {\"geometry\": {\"type\": \"MultiPolygon\", \"coordin...\n",
       "405  2016    NC         3  {\"geometry\": {\"type\": \"MultiPolygon\", \"coordin...\n",
       "416  2016    NC         9  {\"geometry\": {\"type\": \"MultiPolygon\", \"coordin...\n",
       "420  2016    NC         6  {\"geometry\": {\"type\": \"MultiPolygon\", \"coordin...\n",
       "465  2012    NC         2  { \"type\": \"MultiPolygon\", \"coordinates\": [ [ [...\n",
       "468  2012    NC        11  { \"type\": \"MultiPolygon\", \"coordinates\": [ [ [...\n",
       "538  2012    NC        10  { \"type\": \"MultiPolygon\", \"coordinates\": [ [ [...\n",
       "585  2012    NC         7  { \"type\": \"MultiPolygon\", \"coordinates\": [ [ [...\n",
       "784  2012    NC         8  { \"type\": \"MultiPolygon\", \"coordinates\": [ [ [...\n",
       "792  2012    NC        12  { \"type\": \"MultiPolygon\", \"coordinates\": [ [ [...\n",
       "793  2012    NC         4  { \"type\": \"MultiPolygon\", \"coordinates\": [ [ [...\n",
       "804  2012    NC        13  { \"type\": \"MultiPolygon\", \"coordinates\": [ [ [...\n",
       "835  2012    NC         1  { \"type\": \"MultiPolygon\", \"coordinates\": [ [ [...\n",
       "839  2012    NC         5  { \"type\": \"MultiPolygon\", \"coordinates\": [ [ [...\n",
       "846  2012    NC         3  { \"type\": \"MultiPolygon\", \"coordinates\": [ [ [...\n",
       "857  2012    NC         9  { \"type\": \"MultiPolygon\", \"coordinates\": [ [ [...\n",
       "861  2012    NC         6  { \"type\": \"MultiPolygon\", \"coordinates\": [ [ [..."
      ]
     },
     "execution_count": 35,
     "metadata": {},
     "output_type": "execute_result"
    }
   ],
   "source": [
    "nc_df= all_df[all_df.state =='NC']\n",
    "nc_df"
   ]
  },
  {
   "cell_type": "markdown",
   "metadata": {},
   "source": [
    "Interesting. It seems like geoJSON data is formatted differently in 2012 and 2016."
   ]
  },
  {
   "cell_type": "code",
   "execution_count": null,
   "metadata": {
    "collapsed": true
   },
   "outputs": [],
   "source": [
    "from area import area\n",
    ">>> obj = {'type':'Polygon','coordinates':[[[-180,-90],[-180,90],[180,90],[180,-90],[-180,-90]]]}\n",
    ">>> area(obj)"
   ]
  },
  {
   "cell_type": "code",
   "execution_count": null,
   "metadata": {
    "collapsed": true
   },
   "outputs": [],
   "source": []
  },
  {
   "cell_type": "code",
   "execution_count": null,
   "metadata": {
    "collapsed": true
   },
   "outputs": [],
   "source": []
  },
  {
   "cell_type": "code",
   "execution_count": null,
   "metadata": {
    "collapsed": true
   },
   "outputs": [],
   "source": [
    "\n"
   ]
  },
  {
   "cell_type": "code",
   "execution_count": null,
   "metadata": {
    "collapsed": true
   },
   "outputs": [],
   "source": []
  },
  {
   "cell_type": "code",
   "execution_count": null,
   "metadata": {
    "collapsed": true
   },
   "outputs": [],
   "source": []
  },
  {
   "cell_type": "code",
   "execution_count": null,
   "metadata": {
    "collapsed": true
   },
   "outputs": [],
   "source": []
  }
 ],
 "metadata": {
  "kernelspec": {
   "display_name": "Python 3",
   "language": "python",
   "name": "python3"
  },
  "language_info": {
   "codemirror_mode": {
    "name": "ipython",
    "version": 3
   },
   "file_extension": ".py",
   "mimetype": "text/x-python",
   "name": "python",
   "nbconvert_exporter": "python",
   "pygments_lexer": "ipython3",
   "version": "3.6.0"
  }
 },
 "nbformat": 4,
 "nbformat_minor": 2
}
